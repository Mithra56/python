{
  "nbformat": 4,
  "nbformat_minor": 0,
  "metadata": {
    "colab": {
      "name": "Untitled0.ipynb",
      "provenance": [],
      "collapsed_sections": [],
      "authorship_tag": "ABX9TyMQEx4whgdiOHLUozEo8k0O",
      "include_colab_link": true
    },
    "kernelspec": {
      "name": "python3",
      "display_name": "Python 3"
    },
    "language_info": {
      "name": "python"
    }
  },
  "cells": [
    {
      "cell_type": "markdown",
      "metadata": {
        "id": "view-in-github",
        "colab_type": "text"
      },
      "source": [
        "<a href=\"https://colab.research.google.com/github/Mithra56/python/blob/main/Untitled0.ipynb\" target=\"_parent\"><img src=\"https://colab.research.google.com/assets/colab-badge.svg\" alt=\"Open In Colab\"/></a>"
      ]
    },
    {
      "cell_type": "markdown",
      "metadata": {
        "id": "nKsuT65Li0X2"
      },
      "source": [
        "**Tuple:** Tuples are used to store multiple items in a single variable.\n",
        "\n",
        "\n",
        "*   It is one of 4 built-in data types in python used to store collections of data, the other 3 are list, set and dictionary, all with different qualities and usage.\n",
        "\n",
        "*   It is a collection which is ordered and immutable (We cannot remove items after tuple has been created)\n",
        "\n",
        "*   Tuples are written with round brackets and allows duplicate values.\n",
        "\n",
        "\n",
        "\n"
      ]
    },
    {
      "cell_type": "markdown",
      "metadata": {
        "id": "nLjvT9M3mNUX"
      },
      "source": [
        "**Example Of Tuple:**"
      ]
    },
    {
      "cell_type": "code",
      "metadata": {
        "colab": {
          "base_uri": "https://localhost:8080/"
        },
        "id": "qRe1xVlbmWi6",
        "outputId": "833479ec-29b9-4117-86b5-4223ce9414f2"
      },
      "source": [
        "mytuple=(\"hello\",5,[5,6,7],(1,2),{\"name\":\"priya\",\"age\":22},[\"list\",\"set\",\"dict\"],5.6,(\"123\",\"456\",\"345\",\"123\",\"456\"))\n",
        "type(mytuple)"
      ],
      "execution_count": null,
      "outputs": [
        {
          "output_type": "execute_result",
          "data": {
            "text/plain": [
              "tuple"
            ]
          },
          "metadata": {
            "tags": []
          },
          "execution_count": 1
        }
      ]
    },
    {
      "cell_type": "code",
      "metadata": {
        "colab": {
          "base_uri": "https://localhost:8080/"
        },
        "id": "HlS4aOZLnYUP",
        "outputId": "8ac28cf9-1bad-489f-e7f2-6603d12e7008"
      },
      "source": [
        "print(mytuple)"
      ],
      "execution_count": null,
      "outputs": [
        {
          "output_type": "stream",
          "text": [
            "('hello', 5, [5, 6, 7], (1, 2), {'name': 'priya', 'age': 22}, ['list', 'set', 'dict'], 5.6, ('123', '456', '345', '123', '456'))\n"
          ],
          "name": "stdout"
        }
      ]
    },
    {
      "cell_type": "markdown",
      "metadata": {
        "id": "JYVQkuORphS5"
      },
      "source": [
        "**Code for implementing Sub dictionary inside dictionary:**"
      ]
    },
    {
      "cell_type": "code",
      "metadata": {
        "colab": {
          "base_uri": "https://localhost:8080/"
        },
        "id": "uGmTABMkqCEh",
        "outputId": "05693e2d-018f-486c-9b91-d05c770506e9"
      },
      "source": [
        "Btech={\n",
        "    \"Branch1\":{\"name\":\"CSE\",\n",
        "               \"year\":2020\n",
        "               },\n",
        "    \"Branch2\":{\"name\":\"ECE\",\n",
        "               \"year\":2020\n",
        "               }   \n",
        "      }\n",
        "type(Btech)  \n"
      ],
      "execution_count": null,
      "outputs": [
        {
          "output_type": "execute_result",
          "data": {
            "text/plain": [
              "dict"
            ]
          },
          "metadata": {
            "tags": []
          },
          "execution_count": 5
        }
      ]
    },
    {
      "cell_type": "code",
      "metadata": {
        "colab": {
          "base_uri": "https://localhost:8080/"
        },
        "id": "daZWM7uJq9a4",
        "outputId": "575e69a2-c0a5-47a3-d187-4076220a625c"
      },
      "source": [
        "print(Btech)"
      ],
      "execution_count": null,
      "outputs": [
        {
          "output_type": "stream",
          "text": [
            "{'Branch1': {'name': 'CSE', 'year': 2020}, 'Branch2': {'name': 'ECE', 'year': 2020}}\n"
          ],
          "name": "stdout"
        }
      ]
    }
  ]
}