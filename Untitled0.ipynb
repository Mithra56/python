{
  "nbformat": 4,
  "nbformat_minor": 0,
  "metadata": {
    "colab": {
      "name": "Untitled0.ipynb",
      "provenance": [],
      "authorship_tag": "ABX9TyNMNy4/bl6rPrnqU1BrXOub",
      "include_colab_link": true
    },
    "kernelspec": {
      "name": "python3",
      "display_name": "Python 3"
    },
    "language_info": {
      "name": "python"
    }
  },
  "cells": [
    {
      "cell_type": "markdown",
      "metadata": {
        "id": "view-in-github",
        "colab_type": "text"
      },
      "source": [
        "<a href=\"https://colab.research.google.com/github/Mithra56/python/blob/main/Untitled0.ipynb\" target=\"_parent\"><img src=\"https://colab.research.google.com/assets/colab-badge.svg\" alt=\"Open In Colab\"/></a>"
      ]
    },
    {
      "cell_type": "markdown",
      "metadata": {
        "id": "HAvFsKUHvuuT"
      },
      "source": [
        "# Decision for making lockdown"
      ]
    },
    {
      "cell_type": "code",
      "metadata": {
        "colab": {
          "base_uri": "https://localhost:8080/"
        },
        "id": "GSqBm0rQjne_",
        "outputId": "a64608c2-507c-46fe-ca6d-5543b5092f42"
      },
      "source": [
        "patients=300000\n",
        "if patients>300000:\n",
        " print(\"Get it lockdown\")\n",
        "elif patients>200000 and patients<300000:\n",
        " print(\"Announce section 144\")\n",
        "else:\n",
        " print(\"davayi bhi kadayi bhi\") "
      ],
      "execution_count": null,
      "outputs": [
        {
          "output_type": "stream",
          "text": [
            "davayi bhi kadayi bhi\n"
          ],
          "name": "stdout"
        }
      ]
    },
    {
      "cell_type": "markdown",
      "metadata": {
        "id": "PnOrp-zrwBLC"
      },
      "source": [
        "**Printing all the prime number from 1-100**"
      ]
    },
    {
      "cell_type": "code",
      "metadata": {
        "colab": {
          "base_uri": "https://localhost:8080/"
        },
        "id": "veIx9iWlxCh_",
        "outputId": "4f7f1bda-2863-47ee-d5d9-d81b17ec9756"
      },
      "source": [
        "for n in range(1,101):\n",
        "  if n>1:\n",
        "    for i in range(2,n):\n",
        "      if (n%i)==0:\n",
        "         break\n",
        "    else:\n",
        "       print(n) "
      ],
      "execution_count": null,
      "outputs": [
        {
          "output_type": "stream",
          "text": [
            "2\n",
            "3\n",
            "5\n",
            "7\n",
            "11\n",
            "13\n",
            "17\n",
            "19\n",
            "23\n",
            "29\n",
            "31\n",
            "37\n",
            "41\n",
            "43\n",
            "47\n",
            "53\n",
            "59\n",
            "61\n",
            "67\n",
            "71\n",
            "73\n",
            "79\n",
            "83\n",
            "89\n",
            "97\n"
          ],
          "name": "stdout"
        }
      ]
    }
  ]
}